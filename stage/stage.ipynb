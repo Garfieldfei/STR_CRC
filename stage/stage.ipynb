{
 "cells": [
  {
   "cell_type": "code",
   "execution_count": 1,
   "metadata": {},
   "outputs": [],
   "source": [
    "import pandas as pd\n",
    "pd.options.mode.chained_assignment = None\n",
    "import numpy as np\n",
    "import seaborn as sns\n",
    "import matplotlib.pyplot as plt\n",
    "#from sklearn.linear_model import LinearRegression\n",
    "import statsmodels.api as sm"
   ]
  },
  {
   "cell_type": "code",
   "execution_count": 2,
   "metadata": {},
   "outputs": [
    {
     "data": {
      "text/html": [
       "<div>\n",
       "<style scoped>\n",
       "    .dataframe tbody tr th:only-of-type {\n",
       "        vertical-align: middle;\n",
       "    }\n",
       "\n",
       "    .dataframe tbody tr th {\n",
       "        vertical-align: top;\n",
       "    }\n",
       "\n",
       "    .dataframe thead th {\n",
       "        text-align: right;\n",
       "    }\n",
       "</style>\n",
       "<table border=\"1\" class=\"dataframe\">\n",
       "  <thead>\n",
       "    <tr style=\"text-align: right;\">\n",
       "      <th>Hybridization REF</th>\n",
       "      <th>pathologic_stage</th>\n",
       "      <th>number_of_lymph_nodes</th>\n",
       "      <th>years_to_birth</th>\n",
       "      <th>date_of_initial_pathologic_diagnosis</th>\n",
       "      <th>stage</th>\n",
       "      <th>patient</th>\n",
       "      <th>stage_num</th>\n",
       "    </tr>\n",
       "  </thead>\n",
       "  <tbody>\n",
       "    <tr>\n",
       "      <th>TCGA-A6-2677</th>\n",
       "      <td>stage iiic</td>\n",
       "      <td>5</td>\n",
       "      <td>68</td>\n",
       "      <td>2009</td>\n",
       "      <td>stage iii</td>\n",
       "      <td>TCGA-A6-2677</td>\n",
       "      <td>3</td>\n",
       "    </tr>\n",
       "    <tr>\n",
       "      <th>TCGA-A6-2681</th>\n",
       "      <td>stage iia</td>\n",
       "      <td>0</td>\n",
       "      <td>73</td>\n",
       "      <td>2009</td>\n",
       "      <td>stage ii</td>\n",
       "      <td>TCGA-A6-2681</td>\n",
       "      <td>2</td>\n",
       "    </tr>\n",
       "    <tr>\n",
       "      <th>TCGA-A6-2682</th>\n",
       "      <td>stage iv</td>\n",
       "      <td>2</td>\n",
       "      <td>70</td>\n",
       "      <td>2009</td>\n",
       "      <td>stage iv</td>\n",
       "      <td>TCGA-A6-2682</td>\n",
       "      <td>4</td>\n",
       "    </tr>\n",
       "    <tr>\n",
       "      <th>TCGA-A6-4105</th>\n",
       "      <td>stage iia</td>\n",
       "      <td>0</td>\n",
       "      <td>79</td>\n",
       "      <td>2010</td>\n",
       "      <td>stage ii</td>\n",
       "      <td>TCGA-A6-4105</td>\n",
       "      <td>2</td>\n",
       "    </tr>\n",
       "    <tr>\n",
       "      <th>TCGA-A6-6649</th>\n",
       "      <td>stage iiib</td>\n",
       "      <td>2</td>\n",
       "      <td>66</td>\n",
       "      <td>2010</td>\n",
       "      <td>stage iii</td>\n",
       "      <td>TCGA-A6-6649</td>\n",
       "      <td>3</td>\n",
       "    </tr>\n",
       "  </tbody>\n",
       "</table>\n",
       "</div>"
      ],
      "text/plain": [
       "Hybridization REF pathologic_stage number_of_lymph_nodes years_to_birth  \\\n",
       "TCGA-A6-2677            stage iiic                     5             68   \n",
       "TCGA-A6-2681             stage iia                     0             73   \n",
       "TCGA-A6-2682              stage iv                     2             70   \n",
       "TCGA-A6-4105             stage iia                     0             79   \n",
       "TCGA-A6-6649            stage iiib                     2             66   \n",
       "\n",
       "Hybridization REF date_of_initial_pathologic_diagnosis      stage  \\\n",
       "TCGA-A6-2677                                      2009  stage iii   \n",
       "TCGA-A6-2681                                      2009   stage ii   \n",
       "TCGA-A6-2682                                      2009   stage iv   \n",
       "TCGA-A6-4105                                      2010   stage ii   \n",
       "TCGA-A6-6649                                      2010  stage iii   \n",
       "\n",
       "Hybridization REF       patient  stage_num  \n",
       "TCGA-A6-2677       TCGA-A6-2677          3  \n",
       "TCGA-A6-2681       TCGA-A6-2681          2  \n",
       "TCGA-A6-2682       TCGA-A6-2682          4  \n",
       "TCGA-A6-4105       TCGA-A6-4105          2  \n",
       "TCGA-A6-6649       TCGA-A6-6649          3  "
      ]
     },
     "execution_count": 2,
     "metadata": {},
     "output_type": "execute_result"
    }
   ],
   "source": [
    "clinical = pd.read_csv(\"./data/COADREAD.clin.merged.picked.txt\", sep = \"\\t\").T\n",
    "clinical.columns = clinical.iloc[0,:]\n",
    "clinical = clinical.drop(\"Hybridization REF\").drop(columns = [\"Composite Element REF\"])\n",
    "clinical.index = list(map(str.upper, clinical.index))\n",
    "\n",
    "stage_info = clinical[[\"pathologic_stage\", \"number_of_lymph_nodes\", \"years_to_birth\", \"date_of_initial_pathologic_diagnosis\"]]\n",
    "stage_info = stage_info.dropna(subset = \"pathologic_stage\")\n",
    "stage_info[\"stage\"] = [i.rstrip(\"a\").rstrip(\"b\").rstrip(\"c\") for i in stage_info.iloc[:,0]]\n",
    "stage_info[\"patient\"] = stage_info.index\n",
    "roman_dict = {\"stage i\" : 1, \"stage ii\" : 2, \"stage iii\" : 3, \"stage iv\" : 4}\n",
    "stage_info[\"stage_num\"] = [roman_dict[i] for i in stage_info[\"stage\"]]\n",
    "stage_info.head()"
   ]
  },
  {
   "cell_type": "code",
   "execution_count": 3,
   "metadata": {},
   "outputs": [],
   "source": [
    "crc_msi = pd.read_csv(\"./data/crc_msi.csv\")\n",
    "crc_msi.loc[crc_msi[\"msi\"] == \"msi-l\", \"msi\"] = \"mss\"\n",
    "stage_info = stage_info.merge(crc_msi, left_on = \"patient\", right_on = \"bcr_patient_barcode\")\n",
    "stage_info[\"date_of_initial_pathologic_diagnosis\"] = stage_info[\"date_of_initial_pathologic_diagnosis\"].astype(\"Int64\")\n",
    "stage_info[\"number_of_lymph_nodes\"] = stage_info[\"number_of_lymph_nodes\"].astype(\"Int64\")\n",
    "stage_info[\"years_to_birth\"] = stage_info[\"years_to_birth\"].astype(\"Int64\")"
   ]
  },
  {
   "cell_type": "code",
   "execution_count": 4,
   "metadata": {},
   "outputs": [
    {
     "data": {
      "text/plain": [
       "stage ii     226\n",
       "stage iii    181\n",
       "stage i      109\n",
       "stage iv      90\n",
       "Name: stage, dtype: int64"
      ]
     },
     "execution_count": 4,
     "metadata": {},
     "output_type": "execute_result"
    }
   ],
   "source": [
    "stage_info[\"stage\"].value_counts()"
   ]
  },
  {
   "cell_type": "code",
   "execution_count": 6,
   "metadata": {},
   "outputs": [
    {
     "data": {
      "text/plain": [
       "<AxesSubplot:xlabel='msi', ylabel='years_to_birth'>"
      ]
     },
     "execution_count": 6,
     "metadata": {},
     "output_type": "execute_result"
    },
    {
     "data": {
      "image/png": "[encoded data removed]",
      "text/plain": [
       "<Figure size 432x288 with 1 Axes>"
      ]
     },
     "metadata": {
      "needs_background": "light"
     },
     "output_type": "display_data"
    }
   ],
   "source": [
    "sns.boxplot(data = stage_info, x = \"msi\", y = \"years_to_birth\")"
   ]
  },
  {
   "cell_type": "code",
   "execution_count": 7,
   "metadata": {},
   "outputs": [
    {
     "data": {
      "text/plain": [
       "<AxesSubplot:xlabel='stage', ylabel='years_to_birth'>"
      ]
     },
     "execution_count": 7,
     "metadata": {},
     "output_type": "execute_result"
    },
    {
     "data": {
      "image/png": "[encoded data removed]",
      "text/plain": [
       "<Figure size 432x288 with 1 Axes>"
      ]
     },
     "metadata": {
      "needs_background": "light"
     },
     "output_type": "display_data"
    }
   ],
   "source": [
    "sns.boxplot(data = stage_info, x = \"stage\", y = \"years_to_birth\", order = [\"stage i\", \"stage ii\", \"stage iii\", \"stage iv\"])"
   ]
  },
  {
   "attachments": {},
   "cell_type": "markdown",
   "metadata": {},
   "source": [
    "#### STR mutation length"
   ]
  },
  {
   "cell_type": "code",
   "execution_count": 9,
   "metadata": {},
   "outputs": [],
   "source": [
    "str_diff = pd.read_csv(\"./data/20230525_autosomal_mutations_only.csv\")\n",
    "str_diff = str_diff.merge(stage_info, on = \"patient\")"
   ]
  },
  {
   "cell_type": "code",
   "execution_count": 10,
   "metadata": {},
   "outputs": [
    {
     "data": {
      "text/plain": [
       "stage ii     35160\n",
       "stage iii    17639\n",
       "stage i      15572\n",
       "stage iv     12445\n",
       "Name: stage, dtype: int64"
      ]
     },
     "execution_count": 10,
     "metadata": {},
     "output_type": "execute_result"
    }
   ],
   "source": [
    "str_diff[\"stage\"].value_counts()"
   ]
  },
  {
   "cell_type": "code",
   "execution_count": 11,
   "metadata": {},
   "outputs": [
    {
     "data": {
      "text/plain": [
       "(24, 117)"
      ]
     },
     "execution_count": 11,
     "metadata": {},
     "output_type": "execute_result"
    }
   ],
   "source": [
    "msi_data = str_diff.loc[str_diff.msi == \"msi-h\"]\n",
    "mss_data = str_diff.loc[str_diff.msi == \"mss\"]\n",
    "msi_data[\"patient\"].nunique(), mss_data[\"patient\"].nunique()"
   ]
  },
  {
   "cell_type": "code",
   "execution_count": 13,
   "metadata": {},
   "outputs": [
    {
     "data": {
      "text/html": [
       "<table class=\"simpletable\">\n",
       "<caption>OLS Regression Results</caption>\n",
       "<tr>\n",
       "  <th>Dep. Variable:</th>    <td>patient_len_diff</td> <th>  R-squared:         </th> <td>   0.019</td> \n",
       "</tr>\n",
       "<tr>\n",
       "  <th>Model:</th>                   <td>OLS</td>       <th>  Adj. R-squared:    </th> <td>   0.019</td> \n",
       "</tr>\n",
       "<tr>\n",
       "  <th>Method:</th>             <td>Least Squares</td>  <th>  F-statistic:       </th> <td>   600.7</td> \n",
       "</tr>\n",
       "<tr>\n",
       "  <th>Date:</th>             <td>Tue, 27 Jun 2023</td> <th>  Prob (F-statistic):</th> <td>2.20e-131</td>\n",
       "</tr>\n",
       "<tr>\n",
       "  <th>Time:</th>                 <td>18:11:12</td>     <th>  Log-Likelihood:    </th> <td> -78407.</td> \n",
       "</tr>\n",
       "<tr>\n",
       "  <th>No. Observations:</th>      <td> 30704</td>      <th>  AIC:               </th> <td>1.568e+05</td>\n",
       "</tr>\n",
       "<tr>\n",
       "  <th>Df Residuals:</th>          <td> 30702</td>      <th>  BIC:               </th> <td>1.568e+05</td>\n",
       "</tr>\n",
       "<tr>\n",
       "  <th>Df Model:</th>              <td>     1</td>      <th>                     </th>     <td> </td>    \n",
       "</tr>\n",
       "<tr>\n",
       "  <th>Covariance Type:</th>      <td>nonrobust</td>    <th>                     </th>     <td> </td>    \n",
       "</tr>\n",
       "</table>\n",
       "<table class=\"simpletable\">\n",
       "<tr>\n",
       "      <td></td>         <th>coef</th>     <th>std err</th>      <th>t</th>      <th>P>|t|</th>  <th>[0.025</th>    <th>0.975]</th>  \n",
       "</tr>\n",
       "<tr>\n",
       "  <th>const</th>     <td>    2.3581</td> <td>    0.061</td> <td>   38.839</td> <td> 0.000</td> <td>    2.239</td> <td>    2.477</td>\n",
       "</tr>\n",
       "<tr>\n",
       "  <th>stage_num</th> <td>    0.7130</td> <td>    0.029</td> <td>   24.509</td> <td> 0.000</td> <td>    0.656</td> <td>    0.770</td>\n",
       "</tr>\n",
       "</table>\n",
       "<table class=\"simpletable\">\n",
       "<tr>\n",
       "  <th>Omnibus:</th>       <td>14519.970</td> <th>  Durbin-Watson:     </th> <td>   1.881</td> \n",
       "</tr>\n",
       "<tr>\n",
       "  <th>Prob(Omnibus):</th>  <td> 0.000</td>   <th>  Jarque-Bera (JB):  </th> <td>96527.428</td>\n",
       "</tr>\n",
       "<tr>\n",
       "  <th>Skew:</th>           <td> 2.194</td>   <th>  Prob(JB):          </th> <td>    0.00</td> \n",
       "</tr>\n",
       "<tr>\n",
       "  <th>Kurtosis:</th>       <td>10.497</td>   <th>  Cond. No.          </th> <td>    8.66</td> \n",
       "</tr>\n",
       "</table><br/><br/>Notes:<br/>[1] Standard Errors assume that the covariance matrix of the errors is correctly specified."
      ],
      "text/latex": [
       "\\begin{center}\n",
       "\\begin{tabular}{lclc}\n",
       "\\toprule\n",
       "\\textbf{Dep. Variable:}    & patient\\_len\\_diff & \\textbf{  R-squared:         } &     0.019   \\\\\n",
       "\\textbf{Model:}            &        OLS         & \\textbf{  Adj. R-squared:    } &     0.019   \\\\\n",
       "\\textbf{Method:}           &   Least Squares    & \\textbf{  F-statistic:       } &     600.7   \\\\\n",
       "\\textbf{Date:}             &  Tue, 27 Jun 2023  & \\textbf{  Prob (F-statistic):} & 2.20e-131   \\\\\n",
       "\\textbf{Time:}             &      18:11:12      & \\textbf{  Log-Likelihood:    } &   -78407.   \\\\\n",
       "\\textbf{No. Observations:} &        30704       & \\textbf{  AIC:               } & 1.568e+05   \\\\\n",
       "\\textbf{Df Residuals:}     &        30702       & \\textbf{  BIC:               } & 1.568e+05   \\\\\n",
       "\\textbf{Df Model:}         &            1       & \\textbf{                     } &             \\\\\n",
       "\\textbf{Covariance Type:}  &     nonrobust      & \\textbf{                     } &             \\\\\n",
       "\\bottomrule\n",
       "\\end{tabular}\n",
       "\\begin{tabular}{lcccccc}\n",
       "                    & \\textbf{coef} & \\textbf{std err} & \\textbf{t} & \\textbf{P$> |$t$|$} & \\textbf{[0.025} & \\textbf{0.975]}  \\\\\n",
       "\\midrule\n",
       "\\textbf{const}      &       2.3581  &        0.061     &    38.839  &         0.000        &        2.239    &        2.477     \\\\\n",
       "\\textbf{stage\\_num} &       0.7130  &        0.029     &    24.509  &         0.000        &        0.656    &        0.770     \\\\\n",
       "\\bottomrule\n",
       "\\end{tabular}\n",
       "\\begin{tabular}{lclc}\n",
       "\\textbf{Omnibus:}       & 14519.970 & \\textbf{  Durbin-Watson:     } &     1.881  \\\\\n",
       "\\textbf{Prob(Omnibus):} &    0.000  & \\textbf{  Jarque-Bera (JB):  } & 96527.428  \\\\\n",
       "\\textbf{Skew:}          &    2.194  & \\textbf{  Prob(JB):          } &      0.00  \\\\\n",
       "\\textbf{Kurtosis:}      &   10.497  & \\textbf{  Cond. No.          } &      8.66  \\\\\n",
       "\\bottomrule\n",
       "\\end{tabular}\n",
       "%\\caption{OLS Regression Results}\n",
       "\\end{center}\n",
       "\n",
       "Notes: \\newline\n",
       " [1] Standard Errors assume that the covariance matrix of the errors is correctly specified."
      ],
      "text/plain": [
       "<class 'statsmodels.iolib.summary.Summary'>\n",
       "\"\"\"\n",
       "                            OLS Regression Results                            \n",
       "==============================================================================\n",
       "Dep. Variable:       patient_len_diff   R-squared:                       0.019\n",
       "Model:                            OLS   Adj. R-squared:                  0.019\n",
       "Method:                 Least Squares   F-statistic:                     600.7\n",
       "Date:                Tue, 27 Jun 2023   Prob (F-statistic):          2.20e-131\n",
       "Time:                        18:11:12   Log-Likelihood:                -78407.\n",
       "No. Observations:               30704   AIC:                         1.568e+05\n",
       "Df Residuals:                   30702   BIC:                         1.568e+05\n",
       "Df Model:                           1                                         \n",
       "Covariance Type:            nonrobust                                         \n",
       "==============================================================================\n",
       "                 coef    std err          t      P>|t|      [0.025      0.975]\n",
       "------------------------------------------------------------------------------\n",
       "const          2.3581      0.061     38.839      0.000       2.239       2.477\n",
       "stage_num      0.7130      0.029     24.509      0.000       0.656       0.770\n",
       "==============================================================================\n",
       "Omnibus:                    14519.970   Durbin-Watson:                   1.881\n",
       "Prob(Omnibus):                  0.000   Jarque-Bera (JB):            96527.428\n",
       "Skew:                           2.194   Prob(JB):                         0.00\n",
       "Kurtosis:                      10.497   Cond. No.                         8.66\n",
       "==============================================================================\n",
       "\n",
       "Notes:\n",
       "[1] Standard Errors assume that the covariance matrix of the errors is correctly specified.\n",
       "\"\"\""
      ]
     },
     "execution_count": 13,
     "metadata": {},
     "output_type": "execute_result"
    }
   ],
   "source": [
    "x = msi_data[\"stage_num\"]\n",
    "y = msi_data[\"patient_len_diff\"]\n",
    "x = sm.add_constant(x)\n",
    "model = sm.OLS(y, x).fit()\n",
    "model.summary()"
   ]
  },
  {
   "cell_type": "code",
   "execution_count": 14,
   "metadata": {},
   "outputs": [
    {
     "data": {
      "text/plain": [
       "const         0.000000e+00\n",
       "stage_num    2.195539e-131\n",
       "dtype: float64"
      ]
     },
     "execution_count": 14,
     "metadata": {},
     "output_type": "execute_result"
    }
   ],
   "source": [
    "model.pvalues"
   ]
  },
  {
   "cell_type": "code",
   "execution_count": 15,
   "metadata": {},
   "outputs": [
    {
     "data": {
      "text/html": [
       "<table class=\"simpletable\">\n",
       "<caption>OLS Regression Results</caption>\n",
       "<tr>\n",
       "  <th>Dep. Variable:</th>    <td>patient_len_diff</td> <th>  R-squared:         </th>  <td>   0.001</td>  \n",
       "</tr>\n",
       "<tr>\n",
       "  <th>Model:</th>                   <td>OLS</td>       <th>  Adj. R-squared:    </th>  <td>   0.001</td>  \n",
       "</tr>\n",
       "<tr>\n",
       "  <th>Method:</th>             <td>Least Squares</td>  <th>  F-statistic:       </th>  <td>   34.24</td>  \n",
       "</tr>\n",
       "<tr>\n",
       "  <th>Date:</th>             <td>Tue, 27 Jun 2023</td> <th>  Prob (F-statistic):</th>  <td>4.90e-09</td>  \n",
       "</tr>\n",
       "<tr>\n",
       "  <th>Time:</th>                 <td>18:11:35</td>     <th>  Log-Likelihood:    </th> <td>-1.0476e+05</td>\n",
       "</tr>\n",
       "<tr>\n",
       "  <th>No. Observations:</th>      <td> 50112</td>      <th>  AIC:               </th>  <td>2.095e+05</td> \n",
       "</tr>\n",
       "<tr>\n",
       "  <th>Df Residuals:</th>          <td> 50110</td>      <th>  BIC:               </th>  <td>2.095e+05</td> \n",
       "</tr>\n",
       "<tr>\n",
       "  <th>Df Model:</th>              <td>     1</td>      <th>                     </th>      <td> </td>     \n",
       "</tr>\n",
       "<tr>\n",
       "  <th>Covariance Type:</th>      <td>nonrobust</td>    <th>                     </th>      <td> </td>     \n",
       "</tr>\n",
       "</table>\n",
       "<table class=\"simpletable\">\n",
       "<tr>\n",
       "      <td></td>         <th>coef</th>     <th>std err</th>      <th>t</th>      <th>P>|t|</th>  <th>[0.025</th>    <th>0.975]</th>  \n",
       "</tr>\n",
       "<tr>\n",
       "  <th>const</th>     <td>    2.0774</td> <td>    0.023</td> <td>   91.909</td> <td> 0.000</td> <td>    2.033</td> <td>    2.122</td>\n",
       "</tr>\n",
       "<tr>\n",
       "  <th>stage_num</th> <td>    0.0480</td> <td>    0.008</td> <td>    5.852</td> <td> 0.000</td> <td>    0.032</td> <td>    0.064</td>\n",
       "</tr>\n",
       "</table>\n",
       "<table class=\"simpletable\">\n",
       "<tr>\n",
       "  <th>Omnibus:</th>       <td>36305.379</td> <th>  Durbin-Watson:     </th>  <td>   1.939</td> \n",
       "</tr>\n",
       "<tr>\n",
       "  <th>Prob(Omnibus):</th>  <td> 0.000</td>   <th>  Jarque-Bera (JB):  </th> <td>803918.392</td>\n",
       "</tr>\n",
       "<tr>\n",
       "  <th>Skew:</th>           <td> 3.278</td>   <th>  Prob(JB):          </th>  <td>    0.00</td> \n",
       "</tr>\n",
       "<tr>\n",
       "  <th>Kurtosis:</th>       <td>21.494</td>   <th>  Cond. No.          </th>  <td>    7.93</td> \n",
       "</tr>\n",
       "</table><br/><br/>Notes:<br/>[1] Standard Errors assume that the covariance matrix of the errors is correctly specified."
      ],
      "text/latex": [
       "\\begin{center}\n",
       "\\begin{tabular}{lclc}\n",
       "\\toprule\n",
       "\\textbf{Dep. Variable:}    & patient\\_len\\_diff & \\textbf{  R-squared:         } &      0.001   \\\\\n",
       "\\textbf{Model:}            &        OLS         & \\textbf{  Adj. R-squared:    } &      0.001   \\\\\n",
       "\\textbf{Method:}           &   Least Squares    & \\textbf{  F-statistic:       } &      34.24   \\\\\n",
       "\\textbf{Date:}             &  Tue, 27 Jun 2023  & \\textbf{  Prob (F-statistic):} &   4.90e-09   \\\\\n",
       "\\textbf{Time:}             &      18:11:35      & \\textbf{  Log-Likelihood:    } & -1.0476e+05  \\\\\n",
       "\\textbf{No. Observations:} &        50112       & \\textbf{  AIC:               } &  2.095e+05   \\\\\n",
       "\\textbf{Df Residuals:}     &        50110       & \\textbf{  BIC:               } &  2.095e+05   \\\\\n",
       "\\textbf{Df Model:}         &            1       & \\textbf{                     } &              \\\\\n",
       "\\textbf{Covariance Type:}  &     nonrobust      & \\textbf{                     } &              \\\\\n",
       "\\bottomrule\n",
       "\\end{tabular}\n",
       "\\begin{tabular}{lcccccc}\n",
       "                    & \\textbf{coef} & \\textbf{std err} & \\textbf{t} & \\textbf{P$> |$t$|$} & \\textbf{[0.025} & \\textbf{0.975]}  \\\\\n",
       "\\midrule\n",
       "\\textbf{const}      &       2.0774  &        0.023     &    91.909  &         0.000        &        2.033    &        2.122     \\\\\n",
       "\\textbf{stage\\_num} &       0.0480  &        0.008     &     5.852  &         0.000        &        0.032    &        0.064     \\\\\n",
       "\\bottomrule\n",
       "\\end{tabular}\n",
       "\\begin{tabular}{lclc}\n",
       "\\textbf{Omnibus:}       & 36305.379 & \\textbf{  Durbin-Watson:     } &     1.939   \\\\\n",
       "\\textbf{Prob(Omnibus):} &    0.000  & \\textbf{  Jarque-Bera (JB):  } & 803918.392  \\\\\n",
       "\\textbf{Skew:}          &    3.278  & \\textbf{  Prob(JB):          } &      0.00   \\\\\n",
       "\\textbf{Kurtosis:}      &   21.494  & \\textbf{  Cond. No.          } &      7.93   \\\\\n",
       "\\bottomrule\n",
       "\\end{tabular}\n",
       "%\\caption{OLS Regression Results}\n",
       "\\end{center}\n",
       "\n",
       "Notes: \\newline\n",
       " [1] Standard Errors assume that the covariance matrix of the errors is correctly specified."
      ],
      "text/plain": [
       "<class 'statsmodels.iolib.summary.Summary'>\n",
       "\"\"\"\n",
       "                            OLS Regression Results                            \n",
       "==============================================================================\n",
       "Dep. Variable:       patient_len_diff   R-squared:                       0.001\n",
       "Model:                            OLS   Adj. R-squared:                  0.001\n",
       "Method:                 Least Squares   F-statistic:                     34.24\n",
       "Date:                Tue, 27 Jun 2023   Prob (F-statistic):           4.90e-09\n",
       "Time:                        18:11:35   Log-Likelihood:            -1.0476e+05\n",
       "No. Observations:               50112   AIC:                         2.095e+05\n",
       "Df Residuals:                   50110   BIC:                         2.095e+05\n",
       "Df Model:                           1                                         \n",
       "Covariance Type:            nonrobust                                         \n",
       "==============================================================================\n",
       "                 coef    std err          t      P>|t|      [0.025      0.975]\n",
       "------------------------------------------------------------------------------\n",
       "const          2.0774      0.023     91.909      0.000       2.033       2.122\n",
       "stage_num      0.0480      0.008      5.852      0.000       0.032       0.064\n",
       "==============================================================================\n",
       "Omnibus:                    36305.379   Durbin-Watson:                   1.939\n",
       "Prob(Omnibus):                  0.000   Jarque-Bera (JB):           803918.392\n",
       "Skew:                           3.278   Prob(JB):                         0.00\n",
       "Kurtosis:                      21.494   Cond. No.                         7.93\n",
       "==============================================================================\n",
       "\n",
       "Notes:\n",
       "[1] Standard Errors assume that the covariance matrix of the errors is correctly specified.\n",
       "\"\"\""
      ]
     },
     "execution_count": 15,
     "metadata": {},
     "output_type": "execute_result"
    }
   ],
   "source": [
    "x_mss = mss_data[\"stage_num\"]\n",
    "y_mss = mss_data[\"patient_len_diff\"]\n",
    "x_mss = sm.add_constant(x_mss)\n",
    "model_mss = sm.OLS(y_mss, x_mss).fit()\n",
    "model_mss.summary()"
   ]
  },
  {
   "cell_type": "code",
   "execution_count": 16,
   "metadata": {},
   "outputs": [
    {
     "data": {
      "text/plain": [
       "const        0.000000e+00\n",
       "stage_num    4.896238e-09\n",
       "dtype: float64"
      ]
     },
     "execution_count": 16,
     "metadata": {},
     "output_type": "execute_result"
    }
   ],
   "source": [
    "model_mss.pvalues"
   ]
  },
  {
   "cell_type": "code",
   "execution_count": 17,
   "metadata": {},
   "outputs": [
    {
     "data": {
      "text/plain": [
       "[<matplotlib.lines.Line2D at 0x16c656d5c90>]"
      ]
     },
     "execution_count": 17,
     "metadata": {},
     "output_type": "execute_result"
    },
    {
     "data": {
      "image/png": "[encoded data removed]",
      "text/plain": [
       "<Figure size 1680x480 with 2 Axes>"
      ]
     },
     "metadata": {},
     "output_type": "display_data"
    }
   ],
   "source": [
    "x_line = np.array([0.5,1,2,3.5])\n",
    "y_line = x_line*model.params[1] + model.params[0]\n",
    "sns.set_theme(style=\"white\")\n",
    "fig, axs = plt.subplots(1, 2, figsize=(14, 4), dpi = 120, sharey = True)\n",
    "sns.violinplot(ax = axs[0], data = msi_data, x = \"stage_num\", y = \"patient_len_diff\", color = sns.color_palette()[1], order = [1, 2, 3, 4])\n",
    "axs[0].set_xticklabels([\"stage i\", \"stage ii\", \"stage iii\", \"stage iv\"])\n",
    "axs[0].set(ylabel = \"STR Mutation stepsize\", xlabel = \"\")\n",
    "axs[0].set_title(\"MSI samples\")\n",
    "axs[0].plot(x_line-1, y_line, color = \"grey\")\n",
    "sns.despine()\n",
    "\n",
    "x_mss = np.array([0.5,1,2,3, 4, 4.5])\n",
    "y_mss = x_mss*model_mss.params[1] + model_mss.params[0]\n",
    "sns.violinplot(ax = axs[1], data = mss_data, x = \"stage_num\", y = \"patient_len_diff\", color = sns.color_palette()[0])\n",
    "axs[1].set_xticklabels([\"stage i\", \"stage ii\", \"stage iii\", \"stage iv\"])\n",
    "axs[1].set_title(\"MSS samples\")\n",
    "axs[1].set(ylabel = \"STR Mutation Stepsize\", xlabel = \"\")\n",
    "axs[1].plot(x_mss-1, y_mss, color = \"grey\")"
   ]
  }
 ],
 "metadata": {
  "kernelspec": {
   "display_name": "Python 3",
   "language": "python",
   "name": "python3"
  },
  "language_info": {
   "codemirror_mode": {
    "name": "ipython",
    "version": 3
   },
   "file_extension": ".py",
   "mimetype": "text/x-python",
   "name": "python",
   "nbconvert_exporter": "python",
   "pygments_lexer": "ipython3",
   "version": "3.10.4"
  },
  "orig_nbformat": 4
 },
 "nbformat": 4,
 "nbformat_minor": 2
}
